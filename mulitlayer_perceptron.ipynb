{
  "nbformat": 4,
  "nbformat_minor": 0,
  "metadata": {
    "colab": {
      "provenance": []
    },
    "kernelspec": {
      "name": "python3",
      "display_name": "Python 3"
    },
    "language_info": {
      "name": "python"
    }
  },
  "cells": [
    {
      "cell_type": "code",
      "execution_count": 310,
      "metadata": {
        "id": "pGGkE4BAep1f"
      },
      "outputs": [],
      "source": [
        "import numpy as np\n",
        "np.set_printoptions(suppress=True)"
      ]
    },
    {
      "cell_type": "code",
      "source": [
        "# #Binary classification\n",
        "# import matplotlib.pyplot as plt\n",
        "\n",
        "# # random dataset\n",
        "\n",
        "# NUM_SAMPLES_PER_CLASS = 200\n",
        "# INNER_RADIUS = 2\n",
        "# OUTER_RADIUS = 5\n",
        "# NOISE_STD_DEV = 0.5\n",
        "\n",
        "# theta_inner = 2 * np.pi * np.random.rand(NUM_SAMPLES_PER_CLASS)\n",
        "\n",
        "# radius_inner = INNER_RADIUS * np.random.rand(NUM_SAMPLES_PER_CLASS) + np.random.normal(0, NOISE_STD_DEV, NUM_SAMPLES_PER_CLASS)\n",
        "# x0 = radius_inner * np.cos(theta_inner)\n",
        "# y0 = radius_inner * np.sin(theta_inner)\n",
        "# class0_points = np.vstack([x0, y0]).T\n",
        "# class0_labels = np.zeros(NUM_SAMPLES_PER_CLASS)\n",
        "\n",
        "# theta_outer = 2 * np.pi * np.random.rand(NUM_SAMPLES_PER_CLASS)\n",
        "\n",
        "# radius_outer = np.random.uniform(INNER_RADIUS + 1, OUTER_RADIUS, NUM_SAMPLES_PER_CLASS) + np.random.normal(0, NOISE_STD_DEV, NUM_SAMPLES_PER_CLASS)\n",
        "# x1 = radius_outer * np.cos(theta_outer)\n",
        "# y1 = radius_outer * np.sin(theta_outer)\n",
        "# class1_points = np.vstack([x1, y1]).T\n",
        "# class1_labels = np.ones(NUM_SAMPLES_PER_CLASS)\n",
        "\n",
        "\n",
        "# X = np.vstack([class0_points, class1_points])\n",
        "# y = np.hstack([class0_labels, class1_labels])\n",
        "# y = y.reshape(-1, 1) # stupid broadcasting bug that i spent an hour on -.-\n",
        "\n",
        "\n",
        "# plt.figure(figsize=(8, 6))\n",
        "\n",
        "# plt.scatter(class0_points[:, 0], class0_points[:, 1], c='blue', label='Class 0 (Inner)', alpha=0.7)\n",
        "\n",
        "# plt.scatter(class1_points[:, 0], class1_points[:, 1], c='red', label='Class 1 (Outer)', alpha=0.7)\n",
        "# plt.title('Concentric Rings Dataset')\n",
        "# plt.xlabel('Feature 1')\n",
        "# plt.ylabel('Feature 2')\n",
        "# plt.legend()\n",
        "# plt.grid(True)\n",
        "# plt.gca().set_aspect('equal', adjustable='box')\n",
        "# plt.show()"
      ],
      "metadata": {
        "id": "0Wsu6mPtfNcy"
      },
      "execution_count": 311,
      "outputs": []
    },
    {
      "cell_type": "code",
      "source": [
        "# Mnist dataset\n",
        "import copy\n",
        "from tensorflow.keras.datasets import mnist\n",
        "\n",
        "(X_train, y_train), (X_test, y_test) = mnist.load_data()\n",
        "\n",
        "X_train = (X_train.astype('float64') / 255.0).reshape(-1,28*28)\n",
        "X_test = (X_test.astype('float64') / 255.0).reshape(-1,28*28)\n",
        "\n",
        "X_train_copy = copy.deepcopy(X_train)\n",
        "y_train_copy = copy.deepcopy(y_train)\n",
        "\n",
        "X = X_train#[:2000,:]\n",
        "y = y_train.reshape(60000, -1)#[:2000,:]\n",
        "X_test = X_test#[:1000,:]\n",
        "y_test = y_test.reshape(-1,1)#[:1000, :]"
      ],
      "metadata": {
        "id": "_rV-2-fY5Ske"
      },
      "execution_count": 312,
      "outputs": []
    },
    {
      "cell_type": "code",
      "source": [
        "X.shape, y.shape, X_test.shape, y_test.shape"
      ],
      "metadata": {
        "colab": {
          "base_uri": "https://localhost:8080/"
        },
        "id": "8Z1MPju7fNj6",
        "outputId": "0b081d4c-7dc6-490b-d825-31dcc9cd0a97"
      },
      "execution_count": 313,
      "outputs": [
        {
          "output_type": "execute_result",
          "data": {
            "text/plain": [
              "((60000, 784), (60000, 1), (10000, 784), (10000, 1))"
            ]
          },
          "metadata": {},
          "execution_count": 313
        }
      ]
    },
    {
      "cell_type": "code",
      "source": [
        "def one_hot_encoding(vector):\n",
        "    vector = np.array(vector).astype(int).flatten()\n",
        "    # if vector.ndim == 1:\n",
        "    #     return vector\n",
        "    size=len(vector)\n",
        "    num_classes = max(np.max(vector) + 1, 10)\n",
        "\n",
        "    encoded_matrix = np.zeros((size, num_classes))\n",
        "    encoded_matrix[np.arange(size), vector] = 1\n",
        "    return encoded_matrix"
      ],
      "metadata": {
        "id": "wsCbSo0pwQ_l"
      },
      "execution_count": 314,
      "outputs": []
    },
    {
      "cell_type": "code",
      "source": [
        "def train_test_split(X, y, test_size=0.2):\n",
        "    num_samples = X.shape[0]\n",
        "    train_size = int(np.ceil(num_samples * (1-test_size)))\n",
        "    test_size = int(np.floor(num_samples * test_size))\n",
        "\n",
        "    shuffled_indices = np.arange(num_samples)\n",
        "    np.random.shuffle(shuffled_indices)\n",
        "    X = X[shuffled_indices]\n",
        "    y= y[shuffled_indices]\n",
        "\n",
        "    X_train = X[:train_size, :]\n",
        "    y_train = y[:train_size,]\n",
        "    X_test = X[train_size:]\n",
        "    y_test = y[train_size:]\n",
        "\n",
        "    return X_train, y_train, X_test, y_test"
      ],
      "metadata": {
        "id": "fQo6YdzuK3sk"
      },
      "execution_count": 315,
      "outputs": []
    },
    {
      "cell_type": "code",
      "source": [
        "# X_train, y_train, X_test, y_test = train_test_split(X, y)"
      ],
      "metadata": {
        "id": "DTUH6FEGOrcz"
      },
      "execution_count": 316,
      "outputs": []
    },
    {
      "cell_type": "code",
      "source": [
        "def initialize_weights_and_biases(m_inputs, layer_sizes:list):\n",
        "    weights = {}\n",
        "    biases = {}\n",
        "\n",
        "    layers = [m_inputs] + layer_sizes\n",
        "\n",
        "    for i in range(len(layers)-1):\n",
        "        weights[\"W\" + str(i+1)] = np.random.randn(layers[i], layers[i+1])# * 0.01 left out due to vanishing gradients\n",
        "        biases[\"b\" + str(i+1)] = np.zeros((1, layers[i+1]))\n",
        "\n",
        "    # print(f\"Successfully initialized weights and biases for {len(layer_sizes)} layers\")\n",
        "    return weights, biases\n"
      ],
      "metadata": {
        "id": "pOIC9U5BfNo3"
      },
      "execution_count": 317,
      "outputs": []
    },
    {
      "cell_type": "code",
      "source": [
        "def sigmoid(z):\n",
        "    return 1 / (1 + np.exp(-z))\n",
        "\n",
        "def relu(z):\n",
        "    return np.maximum(0,z)\n",
        "\n",
        "def softmax(z):\n",
        "    exponent_values = np.exp(z - np.max(z, axis=1, keepdims=True))\n",
        "    return exponent_values / np.sum(exponent_values, axis=1, keepdims=True)"
      ],
      "metadata": {
        "id": "9NQVMamKbrlu"
      },
      "execution_count": 318,
      "outputs": []
    },
    {
      "cell_type": "code",
      "source": [
        "def forward(A, weights, biases, activation_function):\n",
        "    Z_dict = {}\n",
        "    A_dict = {}\n",
        "    A_dict[\"A0\"] = A\n",
        "    l_dict = {}\n",
        "\n",
        "    if activation_function == 'relu':\n",
        "        activation_function = relu\n",
        "    else:\n",
        "        activation_function = sigmoid\n",
        "\n",
        "\n",
        "    for i in range(len(weights)-1): #loop through hidden layers\n",
        "        a_prev = A\n",
        "        Z = np.dot(a_prev, weights[\"W\" + str(i+1)]) + biases[\"b\" + str(i+1)]\n",
        "        Z_dict[\"Z\" + str(i+1)] = Z\n",
        "        A = activation_function(Z)\n",
        "        A_dict[\"A\" + str(i+1)] = A\n",
        "        l_dict['layer' + str(i+1)] = activation_function.__name__\n",
        "\n",
        "    last_index = len(weights)\n",
        "\n",
        "    if weights[list(weights.keys())[-1]].shape[1] == 1:\n",
        "        output_activation = sigmoid\n",
        "    else:\n",
        "        output_activation = softmax\n",
        "\n",
        "    a_prev = A\n",
        "    Z = np.dot(a_prev, weights[\"W\" + str(last_index)]) + biases[\"b\" + str(last_index)]\n",
        "    Z_dict[\"Z\" + str(last_index)] = Z\n",
        "    A = output_activation(Z)\n",
        "    A_dict[\"A\" + str(last_index)] = A\n",
        "    l_dict['layer' + str(last_index)] = output_activation.__name__\n",
        "\n",
        "\n",
        "    cache = {\"Z\":Z_dict,\n",
        "             \"A\":A_dict,\n",
        "             'layer_activations':l_dict}\n",
        "\n",
        "    # print(\"Successfully computed a forward pass\")\n",
        "    return cache"
      ],
      "metadata": {
        "id": "A_sdeVp1fNq3"
      },
      "execution_count": 319,
      "outputs": []
    },
    {
      "cell_type": "code",
      "source": [
        "def calculate_loss(y_pred, y_true, loss='binary_cross_entropy'):\n",
        "    epsilon = 1e-8\n",
        "\n",
        "    if loss == 'cross_entropy':\n",
        "        return - np.mean(np.sum(y_true * np.log(y_pred + epsilon), axis=1))\n",
        "    else:\n",
        "        return - np.mean(y_true * np.log(y_pred + epsilon) + (1-y_true)*np.log(1-y_pred + epsilon)) # added 1e-8 to avoid log(0)"
      ],
      "metadata": {
        "id": "11iGNgXdoPaN"
      },
      "execution_count": 320,
      "outputs": []
    },
    {
      "cell_type": "code",
      "source": [
        "def sigmoid_derivative(z):\n",
        "    s = sigmoid(z)\n",
        "    return s * (1 - s)\n",
        "\n",
        "def relu_derivative(z):\n",
        "    return (z > 0).astype(float)"
      ],
      "metadata": {
        "id": "Cpa39xURvtTr"
      },
      "execution_count": 321,
      "outputs": []
    },
    {
      "cell_type": "code",
      "source": [
        "def backpropagation(X, y, weights, biases, cache):\n",
        "\n",
        "    activation_derivative = sigmoid_derivative\n",
        "\n",
        "    A_cache = cache['A']\n",
        "    Z_cache = cache['Z']\n",
        "    L_cache = cache['layer_activations']\n",
        "\n",
        "    Z_gradients = {}\n",
        "    A_gradients = {}\n",
        "    W_gradients = {}\n",
        "    b_gradients = {}\n",
        "\n",
        "    m = X.shape[0]\n",
        "\n",
        "    for i in reversed(range(len(weights))):\n",
        "        if L_cache['layer' + str(i+1)] == 'relu':\n",
        "            activation_derivative = relu_derivative\n",
        "        if L_cache['layer' + str(i+1)] == 'sigmoid':\n",
        "            activation_derivative = sigmoid_derivative\n",
        "\n",
        "\n",
        "        if i+1 == len(weights): #special case for first dZ\n",
        "            dZ = A_cache[\"A\" + str(i+1)] - y\n",
        "            Z_gradients[\"dZ\" + str(i+1)] = dZ\n",
        "            W_gradients[\"dW\" + str(i+1)] = np.dot(A_cache[\"A\" + str(i)].T,dZ) / m\n",
        "            b_gradients[\"db\" + str(i+1)] = np.sum(dZ, axis=0, keepdims=True) / m\n",
        "        else:\n",
        "            dZ = np.dot(Z_gradients[\"dZ\" + str(i+2)], weights[\"W\" + str(i+2)].T ) * activation_derivative(Z_cache[\"Z\" + str(i+1)])\n",
        "            Z_gradients[\"dZ\" + str(i+1)] = dZ\n",
        "            W_gradients[\"dW\" + str(i+1)] = np.dot(A_cache[\"A\" + str(i)].T,dZ) / m\n",
        "            b_gradients[\"db\" + str(i+1)] = np.sum(dZ, axis=0, keepdims=True) / m\n",
        "\n",
        "        # print(f\"Layer {i+1} dW magnitude: {np.linalg.norm(W_gradients['dW' + str(i+1)])}\")\n",
        "        # print(f\"Layer {i+1} db magnitude: {np.linalg.norm(b_gradients['db' + str(i+1)])}\")\n",
        "\n",
        "    grads = {\"dW\" : W_gradients,\n",
        "             \"db\" : b_gradients}\n",
        "\n",
        "    return grads"
      ],
      "metadata": {
        "id": "oBO-AJcSpSct"
      },
      "execution_count": 322,
      "outputs": []
    },
    {
      "cell_type": "code",
      "source": [
        "def update_params(grads, weights, biases, learning_rate:float):\n",
        "\n",
        "    dw = grads['dW']\n",
        "    db = grads['db']\n",
        "\n",
        "    for i in range(len(weights)):\n",
        "        weights[\"W\" + str(i+1)] = weights[\"W\" + str(i+1)] - learning_rate * dw[\"dW\" + str(i+1)]\n",
        "        biases[\"b\" + str(i+1)] = biases[\"b\" + str(i+1)] - learning_rate * db[\"db\" + str(i+1)]\n",
        "\n",
        "    # print(\"Successfully updated params\")\n",
        "    return weights, biases"
      ],
      "metadata": {
        "id": "djF7hwUtxlyr"
      },
      "execution_count": 323,
      "outputs": []
    },
    {
      "cell_type": "code",
      "source": [
        "def predict(X, weights, biases):\n",
        "    cache = forward(X, weights, biases, activation_function='relu')\n",
        "    prediction = cache['A'][list(cache['A'].keys())[-1]]\n",
        "    return prediction"
      ],
      "metadata": {
        "id": "uLU5V7b0y80T"
      },
      "execution_count": 324,
      "outputs": []
    },
    {
      "cell_type": "code",
      "source": [
        "weights, biases = initialize_weights_and_biases(m_inputs=784, layer_sizes=[32, 16, 10])"
      ],
      "metadata": {
        "id": "h6yc6ghG8j84"
      },
      "execution_count": 325,
      "outputs": []
    },
    {
      "cell_type": "code",
      "source": [
        "if len(np.unique(y)) > 2:\n",
        "    y = one_hot_encoding(y)\n",
        "    y_test = one_hot_encoding(y_test)\n",
        "    classification_type = 'multi'\n",
        "else:\n",
        "    classification_type = 'single'\n",
        "\n",
        "\n",
        "def accuracy(prediction, labels):\n",
        "    total = len(labels)\n",
        "\n",
        "    if classification_type == 'single':\n",
        "        acc = np.sum((prediction > 0.5).astype(int) == labels) / total\n",
        "    else:\n",
        "        predicted_class = np.argmax(prediction, axis=1)\n",
        "        true_class = np.argmax(labels, axis=1)\n",
        "        acc = np.mean(predicted_class == true_class)\n",
        "    return acc\n"
      ],
      "metadata": {
        "id": "YAN6QKh0HlhD"
      },
      "execution_count": 326,
      "outputs": []
    },
    {
      "cell_type": "code",
      "source": [
        "def run(epochs, learning_rate):\n",
        "    for i in range(epochs):\n",
        "        cache = forward(X, weights, biases, activation_function='relu')\n",
        "        prediction = cache['A'][list(cache['A'].keys())[-1]]\n",
        "        grads = backpropagation(X, y, weights, biases, cache)\n",
        "\n",
        "\n",
        "        if i % 100 == 0:\n",
        "            dev_predictions = predict(X_test, weights, biases)\n",
        "            print(f\"epoch: {i}, loss= {calculate_loss(prediction, y, loss='cross_entropy' if classification_type=='multi' else 'binary_cross_entropy')}, training-set accuracy= {accuracy(prediction, y)}, dev-set accuracy= {accuracy(dev_predictions, y_test)}\")\n",
        "\n",
        "        update_params(grads, weights, biases, learning_rate)"
      ],
      "metadata": {
        "id": "bE-obYbZv2Lb"
      },
      "execution_count": 327,
      "outputs": []
    },
    {
      "cell_type": "code",
      "source": [
        "def run_mini_batches(epochs, learning_rate, mini_batch_size=64):\n",
        "    num_samples = X.shape[0]\n",
        "    div = int(num_samples / mini_batch_size)\n",
        "\n",
        "    divisible_by_mini_batch_size = mini_batch_size * div\n",
        "    not_divisible = num_samples - divisible_by_mini_batch_size\n",
        "\n",
        "    for epoch in range(epochs):\n",
        "        shuffled_indices = np.arange(num_samples)\n",
        "        np.random.shuffle(shuffled_indices)\n",
        "        X_shuffled = X[shuffled_indices]\n",
        "        y_shuffled = y[shuffled_indices]\n",
        "\n",
        "        start = 0\n",
        "        end = 0\n",
        "        for batch in range(start, divisible_by_mini_batch_size, mini_batch_size):\n",
        "            start = end\n",
        "            end = start + mini_batch_size\n",
        "            X_batch = X_shuffled[start:end, :]\n",
        "            y_batch = y_shuffled[start:end]\n",
        "            #forward\n",
        "            cache = forward(X_batch, weights, biases, activation_function='relu')\n",
        "            prediction = cache['A'][list(cache['A'].keys())[-1]]\n",
        "            #backward\n",
        "            grads = backpropagation(X_batch, y_batch, weights, biases, cache)\n",
        "            #update\n",
        "            update_params(grads, weights, biases, learning_rate)\n",
        "\n",
        "        X_batch = X_shuffled[divisible_by_mini_batch_size:, :]\n",
        "        y_batch = y_shuffled[divisible_by_mini_batch_size:]\n",
        "        #forward\n",
        "        cache = forward(X_batch, weights, biases, activation_function='relu')\n",
        "        prediction = cache['A'][list(cache['A'].keys())[-1]]\n",
        "        #backward\n",
        "        grads = backpropagation(X_batch, y_batch, weights, biases, cache)\n",
        "        #update\n",
        "        update_params(grads, weights, biases, learning_rate)\n",
        "\n",
        "        cache = forward(X, weights, biases, activation_function='relu')\n",
        "        full_prediction = cache['A'][list(cache['A'].keys())[-1]]\n",
        "        dev_predictions = predict(X_test, weights, biases)\n",
        "        print(f\"epoch: {epoch}, loss= {calculate_loss(full_prediction, y, loss='cross_entropy' if classification_type=='multi' else 'binary_cross_entropy')}, training-set accuracy= {accuracy(full_prediction, y)}, dev-set accuracy= {accuracy(dev_predictions, y_test)}\")\n"
      ],
      "metadata": {
        "id": "AgzrO6SZBrIw"
      },
      "execution_count": 328,
      "outputs": []
    },
    {
      "cell_type": "code",
      "source": [
        "# run(epochs=10000, learning_rate=0.005)"
      ],
      "metadata": {
        "id": "4oMThHvuwDdK"
      },
      "execution_count": 329,
      "outputs": []
    },
    {
      "cell_type": "code",
      "source": [
        "run_mini_batches(epochs=100, learning_rate=0.05, mini_batch_size=64)"
      ],
      "metadata": {
        "id": "zq_460UVTJVT",
        "outputId": "02d3fcc5-9789-45d7-a311-fe640aac02d3",
        "colab": {
          "base_uri": "https://localhost:8080/"
        }
      },
      "execution_count": 330,
      "outputs": [
        {
          "output_type": "stream",
          "name": "stdout",
          "text": [
            "epoch: 0, loss= 2.165097561043975, training-set accuracy= 0.17786666666666667, dev-set accuracy= 0.1859\n",
            "epoch: 1, loss= 2.0338339840686226, training-set accuracy= 0.21186666666666668, dev-set accuracy= 0.2132\n",
            "epoch: 2, loss= 1.936364317358308, training-set accuracy= 0.22906666666666667, dev-set accuracy= 0.2303\n",
            "epoch: 3, loss= 1.7326206556438508, training-set accuracy= 0.3168166666666667, dev-set accuracy= 0.3231\n",
            "epoch: 4, loss= 1.7304146152119533, training-set accuracy= 0.3130833333333333, dev-set accuracy= 0.3207\n",
            "epoch: 5, loss= 1.6583524264516463, training-set accuracy= 0.34225, dev-set accuracy= 0.3435\n",
            "epoch: 6, loss= 1.569883863683089, training-set accuracy= 0.3548, dev-set accuracy= 0.3566\n",
            "epoch: 7, loss= 1.5891225340681487, training-set accuracy= 0.3733, dev-set accuracy= 0.3721\n",
            "epoch: 8, loss= 1.5194922712157672, training-set accuracy= 0.3544, dev-set accuracy= 0.3586\n",
            "epoch: 9, loss= 1.48692437905627, training-set accuracy= 0.3906, dev-set accuracy= 0.392\n",
            "epoch: 10, loss= 1.7918524676226466, training-set accuracy= 0.2855666666666667, dev-set accuracy= 0.2855\n",
            "epoch: 11, loss= 1.5453263883856492, training-set accuracy= 0.38593333333333335, dev-set accuracy= 0.3776\n",
            "epoch: 12, loss= 1.696511113924133, training-set accuracy= 0.40491666666666665, dev-set accuracy= 0.407\n",
            "epoch: 13, loss= 1.4513390113421076, training-set accuracy= 0.44103333333333333, dev-set accuracy= 0.4433\n",
            "epoch: 14, loss= 1.2686056985340997, training-set accuracy= 0.5072166666666666, dev-set accuracy= 0.5129\n",
            "epoch: 15, loss= 1.3469979760213633, training-set accuracy= 0.49573333333333336, dev-set accuracy= 0.4963\n",
            "epoch: 16, loss= 1.214825119658852, training-set accuracy= 0.5745166666666667, dev-set accuracy= 0.5821\n",
            "epoch: 17, loss= 1.1204896340964736, training-set accuracy= 0.6065166666666667, dev-set accuracy= 0.6143\n",
            "epoch: 18, loss= 1.2692315835468222, training-set accuracy= 0.5842833333333334, dev-set accuracy= 0.588\n",
            "epoch: 19, loss= 0.9861196854592493, training-set accuracy= 0.6696166666666666, dev-set accuracy= 0.6788\n",
            "epoch: 20, loss= 1.0426967600775536, training-set accuracy= 0.6425, dev-set accuracy= 0.6462\n",
            "epoch: 21, loss= 0.7974778509530897, training-set accuracy= 0.7513, dev-set accuracy= 0.7524\n",
            "epoch: 22, loss= 0.7470468120253004, training-set accuracy= 0.7641333333333333, dev-set accuracy= 0.7662\n",
            "epoch: 23, loss= 0.7303478472464039, training-set accuracy= 0.7755333333333333, dev-set accuracy= 0.7644\n",
            "epoch: 24, loss= 0.6700152001440581, training-set accuracy= 0.799, dev-set accuracy= 0.8002\n",
            "epoch: 25, loss= 0.7034930692471145, training-set accuracy= 0.7824833333333333, dev-set accuracy= 0.7753\n",
            "epoch: 26, loss= 0.7862122275273457, training-set accuracy= 0.73955, dev-set accuracy= 0.7473\n",
            "epoch: 27, loss= 0.6063846003482043, training-set accuracy= 0.8226833333333333, dev-set accuracy= 0.8267\n",
            "epoch: 28, loss= 0.5582529627080046, training-set accuracy= 0.8416166666666667, dev-set accuracy= 0.8441\n",
            "epoch: 29, loss= 0.5585096543937256, training-set accuracy= 0.8414666666666667, dev-set accuracy= 0.8463\n",
            "epoch: 30, loss= 0.5316143451278427, training-set accuracy= 0.8458, dev-set accuracy= 0.8472\n",
            "epoch: 31, loss= 0.5094693760050127, training-set accuracy= 0.85975, dev-set accuracy= 0.8611\n",
            "epoch: 32, loss= 0.5955521478481685, training-set accuracy= 0.8198333333333333, dev-set accuracy= 0.8124\n",
            "epoch: 33, loss= 0.48772419620410684, training-set accuracy= 0.8650333333333333, dev-set accuracy= 0.8617\n",
            "epoch: 34, loss= 0.49517998295444776, training-set accuracy= 0.8567666666666667, dev-set accuracy= 0.8502\n",
            "epoch: 35, loss= 0.49984549125559424, training-set accuracy= 0.8534, dev-set accuracy= 0.8578\n",
            "epoch: 36, loss= 0.4646914752058148, training-set accuracy= 0.866, dev-set accuracy= 0.8651\n",
            "epoch: 37, loss= 0.4657489124111955, training-set accuracy= 0.86415, dev-set accuracy= 0.8651\n",
            "epoch: 38, loss= 0.4420970712835612, training-set accuracy= 0.87455, dev-set accuracy= 0.8713\n",
            "epoch: 39, loss= 0.4210726847589452, training-set accuracy= 0.8790666666666667, dev-set accuracy= 0.8768\n",
            "epoch: 40, loss= 0.409325747376177, training-set accuracy= 0.88205, dev-set accuracy= 0.8784\n",
            "epoch: 41, loss= 0.41020314405114744, training-set accuracy= 0.8822, dev-set accuracy= 0.8819\n",
            "epoch: 42, loss= 0.3793835344849397, training-set accuracy= 0.89275, dev-set accuracy= 0.8933\n",
            "epoch: 43, loss= 0.3719865675459023, training-set accuracy= 0.8954333333333333, dev-set accuracy= 0.8938\n",
            "epoch: 44, loss= 0.3943372326586935, training-set accuracy= 0.88485, dev-set accuracy= 0.8823\n",
            "epoch: 45, loss= 0.36454859068314766, training-set accuracy= 0.8959833333333334, dev-set accuracy= 0.895\n",
            "epoch: 46, loss= 0.37345984003733207, training-set accuracy= 0.8957833333333334, dev-set accuracy= 0.8935\n",
            "epoch: 47, loss= 0.45396108050902345, training-set accuracy= 0.8618833333333333, dev-set accuracy= 0.8615\n",
            "epoch: 48, loss= 0.3660498069368421, training-set accuracy= 0.8944, dev-set accuracy= 0.8894\n",
            "epoch: 49, loss= 0.34647519849935793, training-set accuracy= 0.9005166666666666, dev-set accuracy= 0.897\n",
            "epoch: 50, loss= 0.3466774618803655, training-set accuracy= 0.9014333333333333, dev-set accuracy= 0.8998\n",
            "epoch: 51, loss= 0.37234230648982214, training-set accuracy= 0.89455, dev-set accuracy= 0.8926\n",
            "epoch: 52, loss= 0.3538463074892615, training-set accuracy= 0.90045, dev-set accuracy= 0.8997\n",
            "epoch: 53, loss= 0.3705165253361068, training-set accuracy= 0.8908666666666667, dev-set accuracy= 0.8862\n",
            "epoch: 54, loss= 0.3392984858663895, training-set accuracy= 0.90135, dev-set accuracy= 0.8984\n",
            "epoch: 55, loss= 0.3317197800603786, training-set accuracy= 0.90585, dev-set accuracy= 0.8991\n",
            "epoch: 56, loss= 0.3327913847393238, training-set accuracy= 0.90215, dev-set accuracy= 0.8993\n",
            "epoch: 57, loss= 0.3240236710851762, training-set accuracy= 0.9086166666666666, dev-set accuracy= 0.9052\n",
            "epoch: 58, loss= 0.3312945471097668, training-set accuracy= 0.9044833333333333, dev-set accuracy= 0.9012\n",
            "epoch: 59, loss= 0.32455357840346327, training-set accuracy= 0.9086666666666666, dev-set accuracy= 0.9049\n",
            "epoch: 60, loss= 0.36873852148131625, training-set accuracy= 0.888, dev-set accuracy= 0.8886\n",
            "epoch: 61, loss= 0.3136403053575133, training-set accuracy= 0.9117833333333333, dev-set accuracy= 0.9089\n",
            "epoch: 62, loss= 0.3171159063788498, training-set accuracy= 0.9107666666666666, dev-set accuracy= 0.9082\n",
            "epoch: 63, loss= 0.31249818241964883, training-set accuracy= 0.9112166666666667, dev-set accuracy= 0.9104\n",
            "epoch: 64, loss= 0.2994919789785732, training-set accuracy= 0.9148666666666667, dev-set accuracy= 0.9109\n",
            "epoch: 65, loss= 0.3056276446732808, training-set accuracy= 0.9122833333333333, dev-set accuracy= 0.9094\n",
            "epoch: 66, loss= 0.2930735816299154, training-set accuracy= 0.9172333333333333, dev-set accuracy= 0.9118\n",
            "epoch: 67, loss= 0.28819807388656005, training-set accuracy= 0.9177666666666666, dev-set accuracy= 0.9149\n",
            "epoch: 68, loss= 0.3045332786913414, training-set accuracy= 0.9116833333333333, dev-set accuracy= 0.9046\n",
            "epoch: 69, loss= 0.2908560196993214, training-set accuracy= 0.9172833333333333, dev-set accuracy= 0.9145\n",
            "epoch: 70, loss= 0.35682599608855614, training-set accuracy= 0.8909, dev-set accuracy= 0.8837\n",
            "epoch: 71, loss= 0.28275883544269265, training-set accuracy= 0.9193333333333333, dev-set accuracy= 0.9166\n",
            "epoch: 72, loss= 0.282216743414947, training-set accuracy= 0.9198666666666667, dev-set accuracy= 0.9144\n",
            "epoch: 73, loss= 0.27797916232514824, training-set accuracy= 0.9209833333333334, dev-set accuracy= 0.9171\n",
            "epoch: 74, loss= 0.27703106195664795, training-set accuracy= 0.9222, dev-set accuracy= 0.9176\n",
            "epoch: 75, loss= 0.2873347576289775, training-set accuracy= 0.9189, dev-set accuracy= 0.9119\n",
            "epoch: 76, loss= 0.2902748223407538, training-set accuracy= 0.914, dev-set accuracy= 0.9072\n",
            "epoch: 77, loss= 0.2684445263525797, training-set accuracy= 0.924, dev-set accuracy= 0.9205\n",
            "epoch: 78, loss= 0.2724743231968057, training-set accuracy= 0.92175, dev-set accuracy= 0.9158\n",
            "epoch: 79, loss= 0.2827180644594083, training-set accuracy= 0.91615, dev-set accuracy= 0.9094\n",
            "epoch: 80, loss= 0.27622343492511864, training-set accuracy= 0.92095, dev-set accuracy= 0.9162\n",
            "epoch: 81, loss= 0.2718943891586886, training-set accuracy= 0.9224, dev-set accuracy= 0.9153\n",
            "epoch: 82, loss= 0.2777997768397676, training-set accuracy= 0.91795, dev-set accuracy= 0.9112\n",
            "epoch: 83, loss= 0.27415692664228136, training-set accuracy= 0.9219833333333334, dev-set accuracy= 0.9153\n",
            "epoch: 84, loss= 0.2678339969991086, training-set accuracy= 0.92335, dev-set accuracy= 0.9155\n",
            "epoch: 85, loss= 0.25263190101766053, training-set accuracy= 0.9275333333333333, dev-set accuracy= 0.9208\n",
            "epoch: 86, loss= 0.2520077661952359, training-set accuracy= 0.92785, dev-set accuracy= 0.9209\n",
            "epoch: 87, loss= 0.2726193228704174, training-set accuracy= 0.9203666666666667, dev-set accuracy= 0.9133\n",
            "epoch: 88, loss= 0.2533115663607739, training-set accuracy= 0.92665, dev-set accuracy= 0.9188\n",
            "epoch: 89, loss= 0.2500844069997651, training-set accuracy= 0.9295, dev-set accuracy= 0.9223\n",
            "epoch: 90, loss= 0.2456618297265605, training-set accuracy= 0.9282833333333333, dev-set accuracy= 0.9204\n",
            "epoch: 91, loss= 0.24994518856949124, training-set accuracy= 0.9282666666666667, dev-set accuracy= 0.9217\n",
            "epoch: 92, loss= 0.27166800034161537, training-set accuracy= 0.9207166666666666, dev-set accuracy= 0.9124\n",
            "epoch: 93, loss= 0.25783429117896794, training-set accuracy= 0.9259666666666667, dev-set accuracy= 0.9204\n",
            "epoch: 94, loss= 0.2442036821421272, training-set accuracy= 0.9303833333333333, dev-set accuracy= 0.9238\n",
            "epoch: 95, loss= 0.23980849605787127, training-set accuracy= 0.9319, dev-set accuracy= 0.9234\n",
            "epoch: 96, loss= 0.2514621174425771, training-set accuracy= 0.9282833333333333, dev-set accuracy= 0.9186\n",
            "epoch: 97, loss= 0.24952563943915565, training-set accuracy= 0.92975, dev-set accuracy= 0.9232\n",
            "epoch: 98, loss= 0.2444735964805794, training-set accuracy= 0.9299833333333334, dev-set accuracy= 0.9205\n",
            "epoch: 99, loss= 0.23777456517437587, training-set accuracy= 0.93225, dev-set accuracy= 0.9239\n"
          ]
        }
      ]
    },
    {
      "cell_type": "code",
      "source": [
        "# np.savez('trained_model_params.npz', **weights, **biases)\n",
        "# data = np.load('trained_model_params.npz')"
      ],
      "metadata": {
        "id": "PDZUH2uAUaeD"
      },
      "execution_count": 331,
      "outputs": []
    },
    {
      "cell_type": "code",
      "source": [
        "#visualize mnist\n",
        "import matplotlib.pyplot as plt\n",
        "\n",
        "def plot_predictions(X, y, num_images=10):\n",
        "    num_samples = X.shape[0]\n",
        "    shuffled_indices = np.arange(num_samples)\n",
        "    np.random.shuffle(shuffled_indices)\n",
        "    X_shuffled = X[shuffled_indices]\n",
        "    y_shuffled = y[shuffled_indices]\n",
        "\n",
        "    random_picks = np.random.choice(np.arange(num_samples), size=num_images)\n",
        "\n",
        "    images = X_shuffled[random_picks]\n",
        "    labels = y_shuffled[random_picks]\n",
        "    predicted_labels = predict(images, weights, biases)\n",
        "    predicted_labels = np.argmax(predicted_labels, axis=1)\n",
        "    # print(images.shape)\n",
        "\n",
        "    fig, axes = plt.subplots(1, 10, figsize=(15,8))\n",
        "    for i in range(len(images)):\n",
        "        axes[i].imshow(images[i].reshape(28,28), cmap='gray')\n",
        "        axes[i].set_title(\"true: \" + str(labels[i]) + \"\\npredicted: \" + str(predicted_labels[i]))\n",
        "        axes[i].axis('off')\n",
        "\n",
        "plot_predictions(X_train_copy, y_train_copy)"
      ],
      "metadata": {
        "id": "U2S_jh2B9N5O",
        "outputId": "8336b5c1-ab9b-4c50-b863-92e150fc6fba",
        "colab": {
          "base_uri": "https://localhost:8080/",
          "height": 191
        }
      },
      "execution_count": 338,
      "outputs": [
        {
          "output_type": "display_data",
          "data": {
            "text/plain": [
              "<Figure size 1500x800 with 10 Axes>"
            ],
            "image/png": "[encoded data removed]"
          },
          "metadata": {}
        }
      ]
    },
    {
      "cell_type": "code",
      "source": [
        "# import numpy as np\n",
        "# import matplotlib.pyplot as plt\n",
        "\n",
        "# h = 0.05\n",
        "# x_min, x_max = X[:,0].min() - 1, X[:,0].max() + 1\n",
        "# y_min, y_max = X[:,1].min() - 1, X[:,1].max() + 1\n",
        "\n",
        "# xx, yy = np.meshgrid(np.arange(x_min, x_max, h),\n",
        "#                      np.arange(y_min, y_max, h))\n",
        "\n",
        "# grid_points = np.c_[xx.ravel(), yy.ravel()]\n",
        "\n",
        "# preds = predict(grid_points, weights, biases)\n",
        "\n",
        "# Z = (preds > 0.5).astype(int)\n",
        "# Z = Z.reshape(xx.shape)\n",
        "\n",
        "\n",
        "# plt.figure(figsize=(8,6))\n",
        "# plt.contourf(xx, yy, Z, alpha=0.3, cmap=plt.cm.RdBu)\n",
        "\n",
        "# plt.scatter(class0_points[:, 0], class0_points[:, 1], c='blue', label='Class 0 (Inner)', alpha=0.7)\n",
        "# plt.scatter(class1_points[:, 0], class1_points[:, 1], c='red', label='Class 1 (Outer)', alpha=0.7)\n",
        "\n",
        "# plt.title(\"Decision Boundary\")\n",
        "# plt.xlabel(\"Feature 1\")\n",
        "# plt.ylabel(\"Feature 2\")\n",
        "# plt.legend()\n",
        "# plt.grid(True)\n",
        "# plt.gca().set_aspect('equal', adjustable='box')\n",
        "# plt.show()\n"
      ],
      "metadata": {
        "id": "yoUkunx185nD"
      },
      "execution_count": 333,
      "outputs": []
    },
    {
      "cell_type": "code",
      "source": [],
      "metadata": {
        "id": "2BUbd2vyiFKN"
      },
      "execution_count": 333,
      "outputs": []
    }
  ]
}