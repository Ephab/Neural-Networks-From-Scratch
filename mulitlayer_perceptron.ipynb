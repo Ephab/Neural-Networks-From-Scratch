{
  "nbformat": 4,
  "nbformat_minor": 0,
  "metadata": {
    "colab": {
      "provenance": []
    },
    "kernelspec": {
      "name": "python3",
      "display_name": "Python 3"
    },
    "language_info": {
      "name": "python"
    }
  },
  "cells": [
    {
      "cell_type": "code",
      "execution_count": 378,
      "metadata": {
        "id": "pGGkE4BAep1f"
      },
      "outputs": [],
      "source": [
        "import numpy as np\n",
        "np.set_printoptions(suppress=True)"
      ]
    },
    {
      "cell_type": "code",
      "source": [
        "# #Binary classification\n",
        "# import matplotlib.pyplot as plt\n",
        "\n",
        "# # random dataset\n",
        "\n",
        "# NUM_SAMPLES_PER_CLASS = 200\n",
        "# INNER_RADIUS = 2\n",
        "# OUTER_RADIUS = 5\n",
        "# NOISE_STD_DEV = 0.5\n",
        "\n",
        "# theta_inner = 2 * np.pi * np.random.rand(NUM_SAMPLES_PER_CLASS)\n",
        "\n",
        "# radius_inner = INNER_RADIUS * np.random.rand(NUM_SAMPLES_PER_CLASS) + np.random.normal(0, NOISE_STD_DEV, NUM_SAMPLES_PER_CLASS)\n",
        "# x0 = radius_inner * np.cos(theta_inner)\n",
        "# y0 = radius_inner * np.sin(theta_inner)\n",
        "# class0_points = np.vstack([x0, y0]).T\n",
        "# class0_labels = np.zeros(NUM_SAMPLES_PER_CLASS)\n",
        "\n",
        "# theta_outer = 2 * np.pi * np.random.rand(NUM_SAMPLES_PER_CLASS)\n",
        "\n",
        "# radius_outer = np.random.uniform(INNER_RADIUS + 1, OUTER_RADIUS, NUM_SAMPLES_PER_CLASS) + np.random.normal(0, NOISE_STD_DEV, NUM_SAMPLES_PER_CLASS)\n",
        "# x1 = radius_outer * np.cos(theta_outer)\n",
        "# y1 = radius_outer * np.sin(theta_outer)\n",
        "# class1_points = np.vstack([x1, y1]).T\n",
        "# class1_labels = np.ones(NUM_SAMPLES_PER_CLASS)\n",
        "\n",
        "\n",
        "# X = np.vstack([class0_points, class1_points])\n",
        "# y = np.hstack([class0_labels, class1_labels])\n",
        "# y = y.reshape(-1, 1) # stupid broadcasting bug that i spent an hour on -.-\n",
        "\n",
        "\n",
        "# plt.figure(figsize=(8, 6))\n",
        "\n",
        "# plt.scatter(class0_points[:, 0], class0_points[:, 1], c='blue', label='Class 0 (Inner)', alpha=0.7)\n",
        "\n",
        "# plt.scatter(class1_points[:, 0], class1_points[:, 1], c='red', label='Class 1 (Outer)', alpha=0.7)\n",
        "# plt.title('Concentric Rings Dataset')\n",
        "# plt.xlabel('Feature 1')\n",
        "# plt.ylabel('Feature 2')\n",
        "# plt.legend()\n",
        "# plt.grid(True)\n",
        "# plt.gca().set_aspect('equal', adjustable='box')\n",
        "# plt.show()"
      ],
      "metadata": {
        "id": "0Wsu6mPtfNcy"
      },
      "execution_count": 379,
      "outputs": []
    },
    {
      "cell_type": "code",
      "source": [
        "# Mnist dataset\n",
        "import copy\n",
        "from tensorflow.keras.datasets import mnist\n",
        "\n",
        "(X_train, y_train), (X_test, y_test) = mnist.load_data()\n",
        "\n",
        "X_train = (X_train.astype('float64') / 255.0).reshape(-1,28*28)\n",
        "X_test = (X_test.astype('float64') / 255.0).reshape(-1,28*28)\n",
        "\n",
        "X_test_copy = copy.deepcopy(X_test)\n",
        "y_test_copy = copy.deepcopy(y_test)\n",
        "\n",
        "X = X_train#[:2000,:]\n",
        "y = y_train.reshape(60000, -1)#[:2000,:]\n",
        "X_test = X_test#[:1000,:]\n",
        "y_test = y_test.reshape(-1,1)#[:1000, :]"
      ],
      "metadata": {
        "id": "_rV-2-fY5Ske"
      },
      "execution_count": 380,
      "outputs": []
    },
    {
      "cell_type": "code",
      "source": [
        "X.shape, y.shape, X_test.shape, y_test.shape"
      ],
      "metadata": {
        "colab": {
          "base_uri": "https://localhost:8080/"
        },
        "id": "8Z1MPju7fNj6",
        "outputId": "e71a2482-4d4d-4ac2-f58e-389430709b55"
      },
      "execution_count": 381,
      "outputs": [
        {
          "output_type": "execute_result",
          "data": {
            "text/plain": [
              "((60000, 784), (60000, 1), (10000, 784), (10000, 1))"
            ]
          },
          "metadata": {},
          "execution_count": 381
        }
      ]
    },
    {
      "cell_type": "code",
      "source": [
        "def one_hot_encoding(vector):\n",
        "    vector = np.array(vector).astype(int).flatten()\n",
        "    # if vector.ndim == 1:\n",
        "    #     return vector\n",
        "    size=len(vector)\n",
        "    num_classes = max(np.max(vector) + 1, 10)\n",
        "\n",
        "    encoded_matrix = np.zeros((size, num_classes))\n",
        "    encoded_matrix[np.arange(size), vector] = 1\n",
        "    return encoded_matrix"
      ],
      "metadata": {
        "id": "wsCbSo0pwQ_l"
      },
      "execution_count": 382,
      "outputs": []
    },
    {
      "cell_type": "code",
      "source": [
        "def train_test_split(X, y, test_size=0.2):\n",
        "    num_samples = X.shape[0]\n",
        "    train_size = int(np.ceil(num_samples * (1-test_size)))\n",
        "    test_size = int(np.floor(num_samples * test_size))\n",
        "\n",
        "    shuffled_indices = np.arange(num_samples)\n",
        "    np.random.shuffle(shuffled_indices)\n",
        "    X = X[shuffled_indices]\n",
        "    y= y[shuffled_indices]\n",
        "\n",
        "    X_train = X[:train_size, :]\n",
        "    y_train = y[:train_size,]\n",
        "    X_test = X[train_size:]\n",
        "    y_test = y[train_size:]\n",
        "\n",
        "    return X_train, y_train, X_test, y_test"
      ],
      "metadata": {
        "id": "fQo6YdzuK3sk"
      },
      "execution_count": 383,
      "outputs": []
    },
    {
      "cell_type": "code",
      "source": [
        "# X_train, y_train, X_test, y_test = train_test_split(X, y)"
      ],
      "metadata": {
        "id": "DTUH6FEGOrcz"
      },
      "execution_count": 384,
      "outputs": []
    },
    {
      "cell_type": "code",
      "source": [
        "def initialize_weights_and_biases(m_inputs, layer_sizes:list):\n",
        "    weights = {}\n",
        "    biases = {}\n",
        "\n",
        "    layers = [m_inputs] + layer_sizes\n",
        "\n",
        "    for i in range(len(layers)-1):\n",
        "        weights[\"W\" + str(i+1)] = np.random.randn(layers[i], layers[i+1])# * 0.01 left out due to vanishing gradients\n",
        "        biases[\"b\" + str(i+1)] = np.zeros((1, layers[i+1]))\n",
        "\n",
        "    # print(f\"Successfully initialized weights and biases for {len(layer_sizes)} layers\")\n",
        "    return weights, biases\n"
      ],
      "metadata": {
        "id": "pOIC9U5BfNo3"
      },
      "execution_count": 385,
      "outputs": []
    },
    {
      "cell_type": "code",
      "source": [
        "def sigmoid(z):\n",
        "    return 1 / (1 + np.exp(-z))\n",
        "\n",
        "def relu(z):\n",
        "    return np.maximum(0,z)\n",
        "\n",
        "def softmax(z):\n",
        "    exponent_values = np.exp(z - np.max(z, axis=1, keepdims=True))\n",
        "    return exponent_values / np.sum(exponent_values, axis=1, keepdims=True)"
      ],
      "metadata": {
        "id": "9NQVMamKbrlu"
      },
      "execution_count": 386,
      "outputs": []
    },
    {
      "cell_type": "code",
      "source": [
        "def forward(A, weights, biases, activation_function):\n",
        "    Z_dict = {}\n",
        "    A_dict = {}\n",
        "    A_dict[\"A0\"] = A\n",
        "    l_dict = {}\n",
        "\n",
        "    if activation_function == 'relu':\n",
        "        activation_function = relu\n",
        "    else:\n",
        "        activation_function = sigmoid\n",
        "\n",
        "\n",
        "    for i in range(len(weights)-1): #loop through hidden layers\n",
        "        a_prev = A\n",
        "        Z = np.dot(a_prev, weights[\"W\" + str(i+1)]) + biases[\"b\" + str(i+1)]\n",
        "        Z_dict[\"Z\" + str(i+1)] = Z\n",
        "        A = activation_function(Z)\n",
        "        A_dict[\"A\" + str(i+1)] = A\n",
        "        l_dict['layer' + str(i+1)] = activation_function.__name__\n",
        "\n",
        "    last_index = len(weights)\n",
        "\n",
        "    if weights[list(weights.keys())[-1]].shape[1] == 1:\n",
        "        output_activation = sigmoid\n",
        "    else:\n",
        "        output_activation = softmax\n",
        "\n",
        "    a_prev = A\n",
        "    Z = np.dot(a_prev, weights[\"W\" + str(last_index)]) + biases[\"b\" + str(last_index)]\n",
        "    Z_dict[\"Z\" + str(last_index)] = Z\n",
        "    A = output_activation(Z)\n",
        "    A_dict[\"A\" + str(last_index)] = A\n",
        "    l_dict['layer' + str(last_index)] = output_activation.__name__\n",
        "\n",
        "\n",
        "    cache = {\"Z\":Z_dict,\n",
        "             \"A\":A_dict,\n",
        "             'layer_activations':l_dict}\n",
        "\n",
        "    # print(\"Successfully computed a forward pass\")\n",
        "    return cache"
      ],
      "metadata": {
        "id": "A_sdeVp1fNq3"
      },
      "execution_count": 387,
      "outputs": []
    },
    {
      "cell_type": "code",
      "source": [
        "def calculate_loss(y_pred, y_true, loss='binary_cross_entropy'):\n",
        "    epsilon = 1e-8\n",
        "\n",
        "    if loss == 'cross_entropy':\n",
        "        return - np.mean(np.sum(y_true * np.log(y_pred + epsilon), axis=1))\n",
        "    else:\n",
        "        return - np.mean(y_true * np.log(y_pred + epsilon) + (1-y_true)*np.log(1-y_pred + epsilon)) # added 1e-8 to avoid log(0)"
      ],
      "metadata": {
        "id": "11iGNgXdoPaN"
      },
      "execution_count": 388,
      "outputs": []
    },
    {
      "cell_type": "code",
      "source": [
        "def sigmoid_derivative(z):\n",
        "    s = sigmoid(z)\n",
        "    return s * (1 - s)\n",
        "\n",
        "def relu_derivative(z):\n",
        "    return (z > 0).astype(float)"
      ],
      "metadata": {
        "id": "Cpa39xURvtTr"
      },
      "execution_count": 389,
      "outputs": []
    },
    {
      "cell_type": "code",
      "source": [
        "def backpropagation(X, y, weights, biases, cache):\n",
        "\n",
        "    activation_derivative = sigmoid_derivative\n",
        "\n",
        "    A_cache = cache['A']\n",
        "    Z_cache = cache['Z']\n",
        "    L_cache = cache['layer_activations']\n",
        "\n",
        "    Z_gradients = {}\n",
        "    A_gradients = {}\n",
        "    W_gradients = {}\n",
        "    b_gradients = {}\n",
        "\n",
        "    m = X.shape[0]\n",
        "\n",
        "    for i in reversed(range(len(weights))):\n",
        "        if L_cache['layer' + str(i+1)] == 'relu':\n",
        "            activation_derivative = relu_derivative\n",
        "        if L_cache['layer' + str(i+1)] == 'sigmoid':\n",
        "            activation_derivative = sigmoid_derivative\n",
        "\n",
        "\n",
        "        if i+1 == len(weights): #special case for first dZ\n",
        "            dZ = A_cache[\"A\" + str(i+1)] - y\n",
        "            Z_gradients[\"dZ\" + str(i+1)] = dZ\n",
        "            W_gradients[\"dW\" + str(i+1)] = np.dot(A_cache[\"A\" + str(i)].T,dZ) / m\n",
        "            b_gradients[\"db\" + str(i+1)] = np.sum(dZ, axis=0, keepdims=True) / m\n",
        "        else:\n",
        "            dZ = np.dot(Z_gradients[\"dZ\" + str(i+2)], weights[\"W\" + str(i+2)].T ) * activation_derivative(Z_cache[\"Z\" + str(i+1)])\n",
        "            Z_gradients[\"dZ\" + str(i+1)] = dZ\n",
        "            W_gradients[\"dW\" + str(i+1)] = np.dot(A_cache[\"A\" + str(i)].T,dZ) / m\n",
        "            b_gradients[\"db\" + str(i+1)] = np.sum(dZ, axis=0, keepdims=True) / m\n",
        "\n",
        "        # print(f\"Layer {i+1} dW magnitude: {np.linalg.norm(W_gradients['dW' + str(i+1)])}\")\n",
        "        # print(f\"Layer {i+1} db magnitude: {np.linalg.norm(b_gradients['db' + str(i+1)])}\")\n",
        "\n",
        "    grads = {\"dW\" : W_gradients,\n",
        "             \"db\" : b_gradients}\n",
        "\n",
        "    return grads"
      ],
      "metadata": {
        "id": "oBO-AJcSpSct"
      },
      "execution_count": 390,
      "outputs": []
    },
    {
      "cell_type": "code",
      "source": [
        "def update_params(grads, weights, biases, learning_rate:float):\n",
        "\n",
        "    dw = grads['dW']\n",
        "    db = grads['db']\n",
        "\n",
        "    for i in range(len(weights)):\n",
        "        weights[\"W\" + str(i+1)] = weights[\"W\" + str(i+1)] - learning_rate * dw[\"dW\" + str(i+1)]\n",
        "        biases[\"b\" + str(i+1)] = biases[\"b\" + str(i+1)] - learning_rate * db[\"db\" + str(i+1)]\n",
        "\n",
        "    # print(\"Successfully updated params\")\n",
        "    return weights, biases"
      ],
      "metadata": {
        "id": "djF7hwUtxlyr"
      },
      "execution_count": 391,
      "outputs": []
    },
    {
      "cell_type": "code",
      "source": [
        "def predict(X, weights, biases):\n",
        "    cache = forward(X, weights, biases, activation_function='relu')\n",
        "    prediction = cache['A'][list(cache['A'].keys())[-1]]\n",
        "    return prediction"
      ],
      "metadata": {
        "id": "uLU5V7b0y80T"
      },
      "execution_count": 392,
      "outputs": []
    },
    {
      "cell_type": "code",
      "source": [
        "weights, biases = initialize_weights_and_biases(m_inputs=784, layer_sizes=[32, 16, 10])"
      ],
      "metadata": {
        "id": "h6yc6ghG8j84"
      },
      "execution_count": 393,
      "outputs": []
    },
    {
      "cell_type": "code",
      "source": [
        "if len(np.unique(y)) > 2:\n",
        "    y = one_hot_encoding(y)\n",
        "    y_test = one_hot_encoding(y_test)\n",
        "    classification_type = 'multi'\n",
        "else:\n",
        "    classification_type = 'single'\n",
        "\n",
        "\n",
        "def accuracy(prediction, labels):\n",
        "    total = len(labels)\n",
        "\n",
        "    if classification_type == 'single':\n",
        "        acc = np.sum((prediction > 0.5).astype(int) == labels) / total\n",
        "    else:\n",
        "        predicted_class = np.argmax(prediction, axis=1)\n",
        "        true_class = np.argmax(labels, axis=1)\n",
        "        acc = np.mean(predicted_class == true_class)\n",
        "    return acc\n"
      ],
      "metadata": {
        "id": "YAN6QKh0HlhD"
      },
      "execution_count": 394,
      "outputs": []
    },
    {
      "cell_type": "code",
      "source": [
        "def run(epochs, learning_rate):\n",
        "    for i in range(epochs):\n",
        "        cache = forward(X, weights, biases, activation_function='relu')\n",
        "        prediction = cache['A'][list(cache['A'].keys())[-1]]\n",
        "        grads = backpropagation(X, y, weights, biases, cache)\n",
        "\n",
        "\n",
        "        if i % 100 == 0:\n",
        "            dev_predictions = predict(X_test, weights, biases)\n",
        "            print(f\"epoch: {i}, loss= {calculate_loss(prediction, y, loss='cross_entropy' if classification_type=='multi' else 'binary_cross_entropy')}, training-set accuracy= {accuracy(prediction, y)}, dev-set accuracy= {accuracy(dev_predictions, y_test)}\")\n",
        "\n",
        "        update_params(grads, weights, biases, learning_rate)"
      ],
      "metadata": {
        "id": "bE-obYbZv2Lb"
      },
      "execution_count": 395,
      "outputs": []
    },
    {
      "cell_type": "code",
      "source": [
        "def run_mini_batches(epochs, learning_rate, mini_batch_size=64):\n",
        "    num_samples = X.shape[0]\n",
        "    div = int(num_samples / mini_batch_size)\n",
        "\n",
        "    divisible_by_mini_batch_size = mini_batch_size * div\n",
        "    not_divisible = num_samples - divisible_by_mini_batch_size\n",
        "\n",
        "    for epoch in range(epochs):\n",
        "        shuffled_indices = np.arange(num_samples)\n",
        "        np.random.shuffle(shuffled_indices)\n",
        "        X_shuffled = X[shuffled_indices]\n",
        "        y_shuffled = y[shuffled_indices]\n",
        "\n",
        "        start = 0\n",
        "        end = 0\n",
        "        for batch in range(start, divisible_by_mini_batch_size, mini_batch_size):\n",
        "            start = end\n",
        "            end = start + mini_batch_size\n",
        "            X_batch = X_shuffled[start:end, :]\n",
        "            y_batch = y_shuffled[start:end]\n",
        "            #forward\n",
        "            cache = forward(X_batch, weights, biases, activation_function='relu')\n",
        "            prediction = cache['A'][list(cache['A'].keys())[-1]]\n",
        "            #backward\n",
        "            grads = backpropagation(X_batch, y_batch, weights, biases, cache)\n",
        "            #update\n",
        "            update_params(grads, weights, biases, learning_rate)\n",
        "\n",
        "        X_batch = X_shuffled[divisible_by_mini_batch_size:, :]\n",
        "        y_batch = y_shuffled[divisible_by_mini_batch_size:]\n",
        "        #forward\n",
        "        cache = forward(X_batch, weights, biases, activation_function='relu')\n",
        "        prediction = cache['A'][list(cache['A'].keys())[-1]]\n",
        "        #backward\n",
        "        grads = backpropagation(X_batch, y_batch, weights, biases, cache)\n",
        "        #update\n",
        "        update_params(grads, weights, biases, learning_rate)\n",
        "\n",
        "        cache = forward(X, weights, biases, activation_function='relu')\n",
        "        full_prediction = cache['A'][list(cache['A'].keys())[-1]]\n",
        "        dev_predictions = predict(X_test, weights, biases)\n",
        "        print(f\"epoch: {epoch}, loss= {calculate_loss(full_prediction, y, loss='cross_entropy' if classification_type=='multi' else 'binary_cross_entropy')}, training-set accuracy= {accuracy(full_prediction, y)}, dev-set accuracy= {accuracy(dev_predictions, y_test)}\")\n"
      ],
      "metadata": {
        "id": "AgzrO6SZBrIw"
      },
      "execution_count": 396,
      "outputs": []
    },
    {
      "cell_type": "code",
      "source": [
        "# run(epochs=10000, learning_rate=0.005)"
      ],
      "metadata": {
        "id": "4oMThHvuwDdK"
      },
      "execution_count": 397,
      "outputs": []
    },
    {
      "cell_type": "code",
      "source": [
        "run_mini_batches(epochs=100, learning_rate=0.03, mini_batch_size=64)"
      ],
      "metadata": {
        "id": "zq_460UVTJVT",
        "outputId": "622325df-6d26-4bcc-b6c5-8d8cfa78d793",
        "colab": {
          "base_uri": "https://localhost:8080/"
        }
      },
      "execution_count": 413,
      "outputs": [
        {
          "output_type": "stream",
          "name": "stdout",
          "text": [
            "epoch: 0, loss= 0.18987850892281466, training-set accuracy= 0.9433, dev-set accuracy= 0.9347\n",
            "epoch: 1, loss= 0.18156129005827276, training-set accuracy= 0.94825, dev-set accuracy= 0.9404\n",
            "epoch: 2, loss= 0.18273131465635417, training-set accuracy= 0.9471833333333334, dev-set accuracy= 0.9389\n",
            "epoch: 3, loss= 0.20628942810662865, training-set accuracy= 0.9386166666666667, dev-set accuracy= 0.9281\n",
            "epoch: 4, loss= 0.18662739486645621, training-set accuracy= 0.9456, dev-set accuracy= 0.9359\n",
            "epoch: 5, loss= 0.17687831367592016, training-set accuracy= 0.9485833333333333, dev-set accuracy= 0.9394\n",
            "epoch: 6, loss= 0.17751971600426408, training-set accuracy= 0.9472333333333334, dev-set accuracy= 0.9399\n",
            "epoch: 7, loss= 0.18260060844467269, training-set accuracy= 0.9469, dev-set accuracy= 0.9376\n",
            "epoch: 8, loss= 0.1888165606137159, training-set accuracy= 0.9438833333333333, dev-set accuracy= 0.9359\n",
            "epoch: 9, loss= 0.17774738395275297, training-set accuracy= 0.94775, dev-set accuracy= 0.9389\n",
            "epoch: 10, loss= 0.1912115775993184, training-set accuracy= 0.9428, dev-set accuracy= 0.9343\n",
            "epoch: 11, loss= 0.18324366739966194, training-set accuracy= 0.9453166666666667, dev-set accuracy= 0.9375\n",
            "epoch: 12, loss= 0.18573127383209684, training-set accuracy= 0.9465, dev-set accuracy= 0.9393\n",
            "epoch: 13, loss= 0.1765491206494054, training-set accuracy= 0.9483333333333334, dev-set accuracy= 0.9395\n",
            "epoch: 14, loss= 0.18260045244162762, training-set accuracy= 0.94725, dev-set accuracy= 0.9383\n",
            "epoch: 15, loss= 0.18118739741850093, training-set accuracy= 0.9468166666666666, dev-set accuracy= 0.9366\n",
            "epoch: 16, loss= 0.18456505617084443, training-set accuracy= 0.9456666666666667, dev-set accuracy= 0.9374\n",
            "epoch: 17, loss= 0.18217774678794837, training-set accuracy= 0.9465, dev-set accuracy= 0.9372\n",
            "epoch: 18, loss= 0.19031947036608626, training-set accuracy= 0.9440833333333334, dev-set accuracy= 0.9336\n",
            "epoch: 19, loss= 0.17457061938980264, training-set accuracy= 0.9489333333333333, dev-set accuracy= 0.9392\n",
            "epoch: 20, loss= 0.17872591418608455, training-set accuracy= 0.9474, dev-set accuracy= 0.9382\n",
            "epoch: 21, loss= 0.18259876848303436, training-set accuracy= 0.9464833333333333, dev-set accuracy= 0.9395\n",
            "epoch: 22, loss= 0.17536899499590472, training-set accuracy= 0.94875, dev-set accuracy= 0.9403\n",
            "epoch: 23, loss= 0.17469590637920857, training-set accuracy= 0.9482166666666667, dev-set accuracy= 0.9406\n",
            "epoch: 24, loss= 0.1812575330725507, training-set accuracy= 0.9461833333333334, dev-set accuracy= 0.939\n",
            "epoch: 25, loss= 0.19540332831499363, training-set accuracy= 0.9411, dev-set accuracy= 0.9326\n",
            "epoch: 26, loss= 0.17116469931493764, training-set accuracy= 0.9501666666666667, dev-set accuracy= 0.9406\n",
            "epoch: 27, loss= 0.21026138043875625, training-set accuracy= 0.9357, dev-set accuracy= 0.9273\n",
            "epoch: 28, loss= 0.17303474085940063, training-set accuracy= 0.949, dev-set accuracy= 0.94\n",
            "epoch: 29, loss= 0.1763899736281265, training-set accuracy= 0.94895, dev-set accuracy= 0.9415\n",
            "epoch: 30, loss= 0.1866304792538467, training-set accuracy= 0.9442166666666667, dev-set accuracy= 0.9341\n",
            "epoch: 31, loss= 0.1745465378534126, training-set accuracy= 0.9496, dev-set accuracy= 0.9399\n",
            "epoch: 32, loss= 0.17158703778914672, training-set accuracy= 0.9502666666666667, dev-set accuracy= 0.9396\n",
            "epoch: 33, loss= 0.1764478565258456, training-set accuracy= 0.9486333333333333, dev-set accuracy= 0.9393\n",
            "epoch: 34, loss= 0.17522839349693797, training-set accuracy= 0.9481833333333334, dev-set accuracy= 0.9396\n",
            "epoch: 35, loss= 0.17011886483666103, training-set accuracy= 0.95065, dev-set accuracy= 0.9405\n",
            "epoch: 36, loss= 0.16856022747356983, training-set accuracy= 0.9503166666666667, dev-set accuracy= 0.9419\n",
            "epoch: 37, loss= 0.1676619663336879, training-set accuracy= 0.9518666666666666, dev-set accuracy= 0.9429\n",
            "epoch: 38, loss= 0.1752987378724608, training-set accuracy= 0.94765, dev-set accuracy= 0.9374\n",
            "epoch: 39, loss= 0.17201373465903405, training-set accuracy= 0.9496333333333333, dev-set accuracy= 0.9392\n",
            "epoch: 40, loss= 0.1721207778970768, training-set accuracy= 0.9487333333333333, dev-set accuracy= 0.94\n",
            "epoch: 41, loss= 0.17319815941614353, training-set accuracy= 0.9491166666666667, dev-set accuracy= 0.9383\n",
            "epoch: 42, loss= 0.17185718657743038, training-set accuracy= 0.9496833333333333, dev-set accuracy= 0.9397\n",
            "epoch: 43, loss= 0.16554825703599715, training-set accuracy= 0.9513666666666667, dev-set accuracy= 0.9412\n",
            "epoch: 44, loss= 0.16939411912334726, training-set accuracy= 0.9501833333333334, dev-set accuracy= 0.9412\n",
            "epoch: 45, loss= 0.17227592951868936, training-set accuracy= 0.9486166666666667, dev-set accuracy= 0.9389\n",
            "epoch: 46, loss= 0.16844593549741152, training-set accuracy= 0.9508333333333333, dev-set accuracy= 0.9418\n",
            "epoch: 47, loss= 0.210241953839752, training-set accuracy= 0.93865, dev-set accuracy= 0.93\n",
            "epoch: 48, loss= 0.1959867241551197, training-set accuracy= 0.94155, dev-set accuracy= 0.9322\n",
            "epoch: 49, loss= 0.1664892134521773, training-set accuracy= 0.9509666666666666, dev-set accuracy= 0.9402\n",
            "epoch: 50, loss= 0.16209634387261485, training-set accuracy= 0.9525166666666667, dev-set accuracy= 0.9443\n",
            "epoch: 51, loss= 0.1625949595824832, training-set accuracy= 0.9523666666666667, dev-set accuracy= 0.9442\n",
            "epoch: 52, loss= 0.1835443324612015, training-set accuracy= 0.9445166666666667, dev-set accuracy= 0.9361\n",
            "epoch: 53, loss= 0.16617803591876462, training-set accuracy= 0.9519333333333333, dev-set accuracy= 0.9419\n",
            "epoch: 54, loss= 0.17744448648088812, training-set accuracy= 0.9472, dev-set accuracy= 0.9377\n",
            "epoch: 55, loss= 0.16156833401513118, training-set accuracy= 0.9529166666666666, dev-set accuracy= 0.9432\n",
            "epoch: 56, loss= 0.17721786060706393, training-set accuracy= 0.9475, dev-set accuracy= 0.937\n",
            "epoch: 57, loss= 0.16547269568605052, training-set accuracy= 0.95125, dev-set accuracy= 0.9436\n",
            "epoch: 58, loss= 0.16247059954746523, training-set accuracy= 0.9533166666666667, dev-set accuracy= 0.9437\n",
            "epoch: 59, loss= 0.1667029472785527, training-set accuracy= 0.9507, dev-set accuracy= 0.9401\n",
            "epoch: 60, loss= 0.1627095659953602, training-set accuracy= 0.9533666666666667, dev-set accuracy= 0.9427\n",
            "epoch: 61, loss= 0.15823117228439665, training-set accuracy= 0.9541833333333334, dev-set accuracy= 0.9427\n",
            "epoch: 62, loss= 0.16942849531032764, training-set accuracy= 0.9494833333333333, dev-set accuracy= 0.9394\n",
            "epoch: 63, loss= 0.1753951384888218, training-set accuracy= 0.94865, dev-set accuracy= 0.9387\n",
            "epoch: 64, loss= 0.17020115113030085, training-set accuracy= 0.9500666666666666, dev-set accuracy= 0.9397\n",
            "epoch: 65, loss= 0.17119190538992018, training-set accuracy= 0.9500666666666666, dev-set accuracy= 0.9425\n",
            "epoch: 66, loss= 0.16106340403416708, training-set accuracy= 0.9524166666666667, dev-set accuracy= 0.944\n",
            "epoch: 67, loss= 0.1589129133763944, training-set accuracy= 0.9538166666666666, dev-set accuracy= 0.9444\n",
            "epoch: 68, loss= 0.16674072276610946, training-set accuracy= 0.9517166666666667, dev-set accuracy= 0.9414\n",
            "epoch: 69, loss= 0.1548035667258976, training-set accuracy= 0.9548333333333333, dev-set accuracy= 0.9454\n",
            "epoch: 70, loss= 0.15760877742654633, training-set accuracy= 0.9530833333333333, dev-set accuracy= 0.9436\n",
            "epoch: 71, loss= 0.15872332655188887, training-set accuracy= 0.9523333333333334, dev-set accuracy= 0.9424\n",
            "epoch: 72, loss= 0.15645043898387825, training-set accuracy= 0.9553, dev-set accuracy= 0.9464\n",
            "epoch: 73, loss= 0.16164329060037003, training-set accuracy= 0.95235, dev-set accuracy= 0.941\n",
            "epoch: 74, loss= 0.16785516515615714, training-set accuracy= 0.9503, dev-set accuracy= 0.9394\n",
            "epoch: 75, loss= 0.16118905842945655, training-set accuracy= 0.9516333333333333, dev-set accuracy= 0.9414\n",
            "epoch: 76, loss= 0.1679175266933246, training-set accuracy= 0.9508166666666666, dev-set accuracy= 0.9412\n",
            "epoch: 77, loss= 0.15393690850074057, training-set accuracy= 0.9545333333333333, dev-set accuracy= 0.9436\n",
            "epoch: 78, loss= 0.15981135680793732, training-set accuracy= 0.9528, dev-set accuracy= 0.9433\n",
            "epoch: 79, loss= 0.15646981411118954, training-set accuracy= 0.9537666666666667, dev-set accuracy= 0.943\n",
            "epoch: 80, loss= 0.16032488256127775, training-set accuracy= 0.9532333333333334, dev-set accuracy= 0.944\n",
            "epoch: 81, loss= 0.15512481259208732, training-set accuracy= 0.9554833333333334, dev-set accuracy= 0.9438\n",
            "epoch: 82, loss= 0.15307282591659352, training-set accuracy= 0.9553, dev-set accuracy= 0.9445\n",
            "epoch: 83, loss= 0.16790370986565023, training-set accuracy= 0.9501, dev-set accuracy= 0.939\n",
            "epoch: 84, loss= 0.1615408957980072, training-set accuracy= 0.9522166666666667, dev-set accuracy= 0.941\n",
            "epoch: 85, loss= 0.15187736793302295, training-set accuracy= 0.9563666666666667, dev-set accuracy= 0.9455\n",
            "epoch: 86, loss= 0.1672504998352584, training-set accuracy= 0.95065, dev-set accuracy= 0.9405\n",
            "epoch: 87, loss= 0.15425269073271147, training-set accuracy= 0.9548, dev-set accuracy= 0.9446\n",
            "epoch: 88, loss= 0.15268518982882065, training-set accuracy= 0.9560333333333333, dev-set accuracy= 0.9461\n",
            "epoch: 89, loss= 0.15859717353825567, training-set accuracy= 0.9525166666666667, dev-set accuracy= 0.9429\n",
            "epoch: 90, loss= 0.15185618113429156, training-set accuracy= 0.9554166666666667, dev-set accuracy= 0.9447\n",
            "epoch: 91, loss= 0.15187109476087182, training-set accuracy= 0.9551333333333333, dev-set accuracy= 0.9428\n",
            "epoch: 92, loss= 0.15015223783620454, training-set accuracy= 0.9556833333333333, dev-set accuracy= 0.9457\n",
            "epoch: 93, loss= 0.15304544270899728, training-set accuracy= 0.9557333333333333, dev-set accuracy= 0.9442\n",
            "epoch: 94, loss= 0.157134780670897, training-set accuracy= 0.9536833333333333, dev-set accuracy= 0.9445\n",
            "epoch: 95, loss= 0.15611811118064145, training-set accuracy= 0.9538333333333333, dev-set accuracy= 0.9432\n",
            "epoch: 96, loss= 0.15371162510190145, training-set accuracy= 0.9549833333333333, dev-set accuracy= 0.9446\n",
            "epoch: 97, loss= 0.15557436839554914, training-set accuracy= 0.9536833333333333, dev-set accuracy= 0.9451\n",
            "epoch: 98, loss= 0.15241424924466224, training-set accuracy= 0.9553, dev-set accuracy= 0.9462\n",
            "epoch: 99, loss= 0.15782104980174702, training-set accuracy= 0.95445, dev-set accuracy= 0.9431\n"
          ]
        }
      ]
    },
    {
      "cell_type": "code",
      "source": [
        "np.savez('best_trained_model_params[32,16,10].npz', **weights, **biases)\n",
        "# data = np.load('trained_model_params.npz')"
      ],
      "metadata": {
        "id": "PDZUH2uAUaeD"
      },
      "execution_count": 399,
      "outputs": []
    },
    {
      "cell_type": "code",
      "source": [
        "#visualize mnist\n",
        "import matplotlib.pyplot as plt\n",
        "\n",
        "def plot_predictions(X, y, num_images=10):\n",
        "    num_samples = X.shape[0]\n",
        "    shuffled_indices = np.arange(num_samples)\n",
        "    np.random.shuffle(shuffled_indices)\n",
        "    X_shuffled = X[shuffled_indices]\n",
        "    y_shuffled = y[shuffled_indices]\n",
        "\n",
        "    random_picks = np.random.choice(np.arange(num_samples), size=num_images)\n",
        "\n",
        "    images = X_shuffled[random_picks]\n",
        "    labels = y_shuffled[random_picks]\n",
        "    predictions_probability_distribution = predict(images, weights, biases)\n",
        "    predicted_labels = np.argmax(predictions_probability_distribution, axis=1)\n",
        "\n",
        "\n",
        "    fig, axes = plt.subplots(2, num_images, figsize=(20,6))\n",
        "    for i in range(len(images)):\n",
        "        axes[0,i].imshow(images[i].reshape(28,28), cmap='gray')\n",
        "        axes[0,i].set_title(\"true: \" + str(labels[i]) + \"\\npredicted: \" + str(predicted_labels[i]))\n",
        "        axes[0,i].axis('off')\n",
        "        axes[1,i].bar(x=np.arange(10), height=predictions_probability_distribution[i])\n",
        "        axes[1,i].set_ylim(0,1)\n",
        "        axes[1,i].set_xticks(np.arange(10))\n",
        "\n",
        "plot_predictions(X_test_copy, y_test_copy, num_images=5)"
      ],
      "metadata": {
        "id": "U2S_jh2B9N5O",
        "colab": {
          "base_uri": "https://localhost:8080/",
          "height": 424
        },
        "outputId": "aa9e2881-4e4f-4591-c18b-05153f4a45ea"
      },
      "execution_count": 446,
      "outputs": [
        {
          "output_type": "display_data",
          "data": {
            "text/plain": [
              "<Figure size 2000x600 with 10 Axes>"
            ],
            "image/png": "[encoded data removed]"
          },
          "metadata": {}
        }
      ]
    },
    {
      "cell_type": "code",
      "source": [
        "# import numpy as np\n",
        "# import matplotlib.pyplot as plt\n",
        "\n",
        "# h = 0.05\n",
        "# x_min, x_max = X[:,0].min() - 1, X[:,0].max() + 1\n",
        "# y_min, y_max = X[:,1].min() - 1, X[:,1].max() + 1\n",
        "\n",
        "# xx, yy = np.meshgrid(np.arange(x_min, x_max, h),\n",
        "#                      np.arange(y_min, y_max, h))\n",
        "\n",
        "# grid_points = np.c_[xx.ravel(), yy.ravel()]\n",
        "\n",
        "# preds = predict(grid_points, weights, biases)\n",
        "\n",
        "# Z = (preds > 0.5).astype(int)\n",
        "# Z = Z.reshape(xx.shape)\n",
        "\n",
        "\n",
        "# plt.figure(figsize=(8,6))\n",
        "# plt.contourf(xx, yy, Z, alpha=0.3, cmap=plt.cm.RdBu)\n",
        "\n",
        "# plt.scatter(class0_points[:, 0], class0_points[:, 1], c='blue', label='Class 0 (Inner)', alpha=0.7)\n",
        "# plt.scatter(class1_points[:, 0], class1_points[:, 1], c='red', label='Class 1 (Outer)', alpha=0.7)\n",
        "\n",
        "# plt.title(\"Decision Boundary\")\n",
        "# plt.xlabel(\"Feature 1\")\n",
        "# plt.ylabel(\"Feature 2\")\n",
        "# plt.legend()\n",
        "# plt.grid(True)\n",
        "# plt.gca().set_aspect('equal', adjustable='box')\n",
        "# plt.show()\n"
      ],
      "metadata": {
        "id": "yoUkunx185nD"
      },
      "execution_count": 401,
      "outputs": []
    },
    {
      "cell_type": "code",
      "source": [],
      "metadata": {
        "id": "2BUbd2vyiFKN"
      },
      "execution_count": 401,
      "outputs": []
    }
  ]
}